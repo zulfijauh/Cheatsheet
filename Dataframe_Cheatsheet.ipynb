{
  "nbformat": 4,
  "nbformat_minor": 0,
  "metadata": {
    "colab": {
      "name": "Dataframe Cheatsheet.ipynb",
      "provenance": []
    },
    "kernelspec": {
      "name": "python3",
      "display_name": "Python 3"
    },
    "language_info": {
      "name": "python"
    }
  },
  "cells": [
    {
      "cell_type": "code",
      "source": [
        "import pandas as pd"
      ],
      "metadata": {
        "id": "wFxi1-r6ShgY"
      },
      "execution_count": null,
      "outputs": []
    },
    {
      "cell_type": "markdown",
      "source": [
        "# Create Dataframe"
      ],
      "metadata": {
        "id": "yYtSNKbIA1iR"
      }
    },
    {
      "cell_type": "code",
      "execution_count": null,
      "metadata": {
        "id": "1o5RTif4bm_X"
      },
      "outputs": [],
      "source": [
        "# Python List to Dataframe\n",
        "ID = [462809,462643,466315,461735]\n",
        "Gender = ['Male','Female','Female','Male']\n",
        "Ever_Married = ['No','Yes','Yes','Yes']\n",
        "Age = [22,38,67,67]\n",
        "Graduated = ['No','Yes','Yes','Yes']\n",
        "Profession = ['Healthcare','Engineer','Engineer','Lawyer']\n",
        "Work_Experience = [1.0,'',1.0,0.0]\n",
        "Spending_Score = ['Low','Averange','Low','High']\n",
        "Family_Size = [4.0,3.0,1.0,2.0]\n",
        "Var_1 = ['Cat_4','Cat_4','Cat_6','Cat_6',]\n",
        "Segmentation = ['D','A','B','B']\n",
        "\n",
        "dataframe_list = pd.DataFrame(list(zip(ID,Gender,Ever_Married,Age,Graduated,Profession,Work_Experience,Spending_Score,Family_Size,Var_1,Segmentation)),\\\n",
        "                              columns = ['ID','Gender','Ever_Married','Age','Graduated','Profession','Work_Experience','Spending_Score','Family_Size','Var_1','Segmentation'])\n",
        "\n",
        "dataframe_list"
      ]
    },
    {
      "cell_type": "code",
      "source": [
        "# Python Touple to Dataframe\n",
        "Data1 = (462809,'Male','No',22,'No','Healthcare',1.0,'Low',4.0,'Cat_4','D')\n",
        "Data2 = (462643,'Female','Yes',38,'Yes','Engineer','','Averange',3.0,'Cat_4','A')\n",
        "Data3 = (466315,'Female','Yes',67,'Yes','Engineer',1.0,'Low',1.0,'Cat_6','B')\n",
        "Data4 = (461735,'Male','Yes',67,'Yes','Lawyear',0.0,'High',2.0,'Cat_6','B')\n",
        "\n",
        "dataframe_tupple = pd.DataFrame([Data1,Data2,Data3,Data4], columns = ['ID','Gender','Ever_Married','Age','Graduated','Profession','Work_Experience','Spending_Score','Family_Size','Var_1','Segmentation'])\n",
        "dataframe_tupple"
      ],
      "metadata": {
        "id": "Y2ejtmck_3oP"
      },
      "execution_count": null,
      "outputs": []
    },
    {
      "cell_type": "code",
      "source": [
        "# Python Series to Dataframe\n",
        "ID = pd.Series([462809,462643,466315,461735])\n",
        "Gender = pd.Series(['Male','Female','Female','Male'])\n",
        "Ever_Married = pd.Series(['No','Yes','Yes','Yes'])\n",
        "Age = pd.Series([22,38,67,67])\n",
        "Graduated = pd.Series(['No','Yes','Yes','Yes'])\n",
        "Profession = pd.Series(['Healthcare','Engineer','Engineer','Lawyer'])\n",
        "Work_Experience = pd.Series([1.0,'',1.0,0.0])\n",
        "Spending_Score = pd.Series(['Low','Averange','Low','High'])\n",
        "Family_Size = pd.Series([4.0,3.0,1.0,2.0])\n",
        "Var_1 = pd.Series(['Cat_4','Cat_4','Cat_6','Cat_6',])\n",
        "Segmentation = pd.Series(['D','A','B','B'])\n",
        "\n",
        "dataframe_series = pd.DataFrame({'ID':ID,'Gender':Gender,'Ever_Married':Ever_Married,'Age':Age,'Graduated':Graduated,'Profession':Profession,'Work_Experience':Work_Experience,'Spending_Score':Spending_Score,'Family_Size':Family_Size,'Var_1':Var_1,'Segmentation':Segmentation})\n",
        "\n",
        "dataframe_series"
      ],
      "metadata": {
        "id": "g1E2Gvr6Aawq"
      },
      "execution_count": null,
      "outputs": []
    },
    {
      "cell_type": "markdown",
      "source": [
        "# Recall dataframe"
      ],
      "metadata": {
        "id": "JKxECenNA9DR"
      }
    },
    {
      "cell_type": "code",
      "source": [
        "# Read data file. May use read_excel('file name', sheet_name = 'sheet name')\n",
        "df = pd.read_csv('https://raw.githubusercontent.com/ganjar87/data_science_practice/main/cancer.csv')\n",
        "# Display dataframe\n",
        "df.head()\n",
        "# Sorting\n",
        "df.sort_values(by=['Age']).head()\n",
        "# Display certain column\n",
        "df[['Age','Glucose']].head()\n",
        "# Display dataframe with certain condition\n",
        "df.loc[(df['Glucose'] == 82)]\n",
        "# Display dataframe with certain index\n",
        "df.iloc[11:16,0:3]\n",
        "# Create new column\n",
        "df['BMI'] = df['Weight']/df['Height']\n",
        "# Grouping\n",
        "df.groupby('Age').agg( Age_mean = ('Age','mean'))\n",
        "# Merge (joining 2 df side by side)\n",
        "df.merge(df2, how='inner', on = 'id')\n",
        "# Append (joining 2 df with same column)\n",
        "df.append(df2)\n",
        "# Concat\n",
        "pd.concat(['df','df2'],axis=)\n",
        "\n",
        "# Reset index\n",
        "df.random(50).reset_index(drop=True)\n",
        "# Set column as Index\n",
        "df.set_index('TransactionID')\n",
        "# Delete column / rom\n",
        "df.drop(['column'/index],axis=)\n",
        "# Pivot Table\n",
        "pd.pivot_table(df,values = 'column', index='column',columns='column_name',aggfunc=np.agg)\n"
      ],
      "metadata": {
        "id": "95zzxwtVYu0R"
      },
      "execution_count": null,
      "outputs": []
    }
  ]
}